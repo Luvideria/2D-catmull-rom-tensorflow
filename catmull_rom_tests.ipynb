{
 "cells": [
  {
   "cell_type": "code",
   "execution_count": 1,
   "id": "df84cd66",
   "metadata": {},
   "outputs": [
    {
     "ename": "ModuleNotFoundError",
     "evalue": "No module named 'tensorflow'",
     "output_type": "error",
     "traceback": [
      "\u001b[1;31m---------------------------------------------------------------------------\u001b[0m",
      "\u001b[1;31mModuleNotFoundError\u001b[0m                       Traceback (most recent call last)",
      "\u001b[1;32m<ipython-input-1-0d4f3a6ff30a>\u001b[0m in \u001b[0;36m<module>\u001b[1;34m\u001b[0m\n\u001b[1;32m----> 1\u001b[1;33m \u001b[1;32mimport\u001b[0m \u001b[0mtensorflow\u001b[0m \u001b[1;32mas\u001b[0m \u001b[0mtf\u001b[0m\u001b[1;33m\u001b[0m\u001b[1;33m\u001b[0m\u001b[0m\n\u001b[0m\u001b[0;32m      2\u001b[0m \u001b[0mprint\u001b[0m\u001b[1;33m(\u001b[0m\u001b[1;34m\"tensorflow version \"\u001b[0m \u001b[1;33m+\u001b[0m \u001b[0mstr\u001b[0m\u001b[1;33m(\u001b[0m\u001b[0mtf\u001b[0m\u001b[1;33m.\u001b[0m\u001b[0m__version__\u001b[0m\u001b[1;33m)\u001b[0m\u001b[1;33m)\u001b[0m \u001b[1;31m# tested on 2.4.1\u001b[0m\u001b[1;33m\u001b[0m\u001b[1;33m\u001b[0m\u001b[0m\n\u001b[0;32m      3\u001b[0m \u001b[1;32mimport\u001b[0m \u001b[0mtensorflow_addons\u001b[0m \u001b[1;32mas\u001b[0m \u001b[0mtfa\u001b[0m\u001b[1;33m\u001b[0m\u001b[1;33m\u001b[0m\u001b[0m\n\u001b[0;32m      4\u001b[0m \u001b[0mprint\u001b[0m\u001b[1;33m(\u001b[0m\u001b[1;34m\"tensorflow-addons version \"\u001b[0m \u001b[1;33m+\u001b[0m \u001b[0mstr\u001b[0m\u001b[1;33m(\u001b[0m\u001b[0mtfa\u001b[0m\u001b[1;33m.\u001b[0m\u001b[0m__version__\u001b[0m\u001b[1;33m)\u001b[0m\u001b[1;33m)\u001b[0m\u001b[1;33m\u001b[0m\u001b[1;33m\u001b[0m\u001b[0m\n\u001b[0;32m      5\u001b[0m \u001b[1;32mfrom\u001b[0m \u001b[0mtensorboard\u001b[0m \u001b[1;32mimport\u001b[0m \u001b[0mnotebook\u001b[0m\u001b[1;33m\u001b[0m\u001b[1;33m\u001b[0m\u001b[0m\n",
      "\u001b[1;31mModuleNotFoundError\u001b[0m: No module named 'tensorflow'"
     ]
    }
   ],
   "source": [
    "import tensorflow as tf\n",
    "print(\"tensorflow version \" + str(tf.__version__)) # tested on 2.4.1\n",
    "import tensorflow_addons as tfa\n",
    "print(\"tensorflow-addons version \" + str(tfa.__version__))\n",
    "from tensorboard import notebook\n",
    "%load_ext tensorboard\n",
    "\n",
    "from datetime import datetime\n",
    "\n",
    "from dense_image_warp import *\n",
    "import matplotlib.pyplot as plt"
   ]
  },
  {
   "cell_type": "code",
   "execution_count": null,
   "id": "a12a01ce",
   "metadata": {},
   "outputs": [],
   "source": [
    "w=128\n",
    "h=128\n",
    "\n",
    "batch_size=8*4\n",
    "imgs=tf.random.poisson((batch_size,w,h,3),lam=0.5)"
   ]
  },
  {
   "cell_type": "code",
   "execution_count": null,
   "id": "91fe6014",
   "metadata": {},
   "outputs": [],
   "source": []
  },
  {
   "cell_type": "code",
   "execution_count": null,
   "id": "c02163c3",
   "metadata": {},
   "outputs": [],
   "source": [
    "scale = 5\n",
    "\n",
    "x = tf.linspace(0.0,1.0/scale*(w-1),w)\n",
    "y = tf.linspace(0.0,1.0/scale*h-1,h)\n",
    "grid_x, grid_y= tf.meshgrid(x,y)\n",
    "stacked_grid = tf.cast(tf.stack([grid_y, grid_x], axis=2), float)\n",
    "batched_grid = tf.broadcast_to(stacked_grid,(batch_size,)+stacked_grid.shape)\n",
    "query_points_on_grid = batched_grid+64\n",
    "print(tf.shape(batched_grid))\n",
    "query_points_flattened = tf.reshape(\n",
    "    query_points_on_grid, [batch_size, h * w, 2]\n",
    ")"
   ]
  },
  {
   "cell_type": "code",
   "execution_count": null,
   "id": "97571454",
   "metadata": {},
   "outputs": [],
   "source": [
    "#tf.profiler.experimental.start('logtest/catmull')\n",
    "res=interpolate_catmull_rom(imgs,query_points_flattened)\n",
    "#tf.profiler.experimental.stop()"
   ]
  },
  {
   "cell_type": "code",
   "execution_count": null,
   "id": "eda23c2e",
   "metadata": {},
   "outputs": [],
   "source": [
    "#tf.profiler.experimental.start('logtest/bilin')\n",
    "res2=interpolate_bilinear(imgs,query_points_flattened)\n",
    "#tf.profiler.experimental.stop()"
   ]
  },
  {
   "cell_type": "code",
   "execution_count": null,
   "id": "cc71d581",
   "metadata": {},
   "outputs": [],
   "source": []
  },
  {
   "cell_type": "code",
   "execution_count": null,
   "id": "6c706c65",
   "metadata": {
    "scrolled": true
   },
   "outputs": [],
   "source": [
    "res=tf.reshape(res, [batch_size, h, w, 3])\n",
    "res2=tf.reshape(res2, [batch_size, h, w, 3])\n",
    "plt.imshow(imgs[0])\n",
    "plt.figure()\n",
    "plt.imshow(res[0])\n",
    "plt.figure()\n",
    "plt.imshow(res2[0])"
   ]
  },
  {
   "cell_type": "code",
   "execution_count": null,
   "id": "4d4d03ea",
   "metadata": {},
   "outputs": [],
   "source": [
    "test=np.ones((2, 2, 2250))*0.25\n",
    "print(test[0,0,0:15])\n",
    "print(\"_____\")\n",
    "print(test[0,1,0:15])\n",
    "print(\"_____\")\n",
    "print(\"_____\")\n",
    "test = test-1\n",
    "print(test[0,0,0:15])\n",
    "print(\"_____\")\n",
    "print(test[0,1,0:15])\n",
    "print(\"_____\")\n",
    "print(\"_____\")"
   ]
  },
  {
   "cell_type": "code",
   "execution_count": null,
   "id": "a71da432",
   "metadata": {},
   "outputs": [],
   "source": [
    "def gather(y_coords, x_coords, name):\n",
    "    with tf.name_scope(\"gather-\" + name):\n",
    "        linear_coordinates = batch_offsets + y_coords * width + x_coords\n",
    "        gathered_values = tf.gather(flattened_grid, linear_coordinates)\n",
    "        return tf.reshape(gathered_values, [batch_size, num_queries, channels])"
   ]
  },
  {
   "cell_type": "code",
   "execution_count": null,
   "id": "8ebfc931",
   "metadata": {},
   "outputs": [],
   "source": [
    "np.shape(test[0])"
   ]
  },
  {
   "cell_type": "code",
   "execution_count": null,
   "id": "aed38de2",
   "metadata": {},
   "outputs": [],
   "source": [
    "\n",
    "stacktest = np.ones((5, 225, 3))\n",
    "stacked=np.stack([stacktest,stacktest],  axis=-1)\n",
    "\n",
    "print(np.shape(stacked))\n",
    "reduced=np.sum(stacked,axis=-1)\n",
    "print(np.shape(reduced))"
   ]
  },
  {
   "cell_type": "code",
   "execution_count": null,
   "id": "56bc64d5",
   "metadata": {},
   "outputs": [],
   "source": [
    "aye=tf.zeros((5,255,3,2))\n",
    "aye[:,:,:,0]=stacktest\n",
    "aye[:,:,:,1]=stacktest"
   ]
  },
  {
   "cell_type": "code",
   "execution_count": null,
   "id": "47dcdd18",
   "metadata": {},
   "outputs": [],
   "source": []
  }
 ],
 "metadata": {
  "kernelspec": {
   "display_name": "Python 3",
   "language": "python",
   "name": "python3"
  },
  "language_info": {
   "codemirror_mode": {
    "name": "ipython",
    "version": 3
   },
   "file_extension": ".py",
   "mimetype": "text/x-python",
   "name": "python",
   "nbconvert_exporter": "python",
   "pygments_lexer": "ipython3",
   "version": "3.8.5"
  },
  "varInspector": {
   "cols": {
    "lenName": 16,
    "lenType": 16,
    "lenVar": 40
   },
   "kernels_config": {
    "python": {
     "delete_cmd_postfix": "",
     "delete_cmd_prefix": "del ",
     "library": "var_list.py",
     "varRefreshCmd": "print(var_dic_list())"
    },
    "r": {
     "delete_cmd_postfix": ") ",
     "delete_cmd_prefix": "rm(",
     "library": "var_list.r",
     "varRefreshCmd": "cat(var_dic_list()) "
    }
   },
   "types_to_exclude": [
    "module",
    "function",
    "builtin_function_or_method",
    "instance",
    "_Feature"
   ],
   "window_display": true
  }
 },
 "nbformat": 4,
 "nbformat_minor": 5
}
